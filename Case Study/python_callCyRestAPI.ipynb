{
 "cells": [
  {
   "cell_type": "code",
   "execution_count": 20,
   "metadata": {},
   "outputs": [
    {
     "name": "stdout",
     "output_type": "stream",
     "text": [
      "{'diseaseOMIMID': 'MIM114480', 'listOfmiRNAs': 'hsa-miR-375,hsa-miR-107,hsa-miR-15a,hsa-miR-326,hsa-miR-155,hsa-miR-145,hsa-miR-148b,hsa-miR-224,hsa-let-7e,hsa-miR-29c,hsa-miR-26b,hsa-miR-30a,hsa-let-7b,hsa-let-7c,hsa-miR-34b,hsa-miR-10b,hsa-miR-18a,hsa-miR-328,hsa-miR-143,hsa-miR-214,hsa-miR-152,hsa-miR-135b,hsa-miR-195,hsa-miR-125a-5p,hsa-miR-342-3p,hsa-let-7a,hsa-miR-769-5p,hsa-miR-361-5p,hsa-miR-142-3p,hsa-miR-34c-5p,hsa-miR-146b-5p,hsa-miR-449a,hsa-miR-199a-5p,hsa-miR-489,hsa-miR-9,hsa-miR-30a*,hsa-miR-135a,hsa-miR-181c,hsa-miR-378*,hsa-miR-30c,hsa-let-7f,hsa-miR-483-3p,hsa-miR-342-5p,hsa-miR-501-3p,hsa-miR-101,hsa-miR-574-3p,hsa-miR-26a,hsa-miR-103,hsa-miR-378,hsa-miR-99b,hsa-miR-590-5p,hsa-miR-362-5p,hsa-miR-9*,hsa-miR-142-5p,hsa-miR-101*,hsa-miR-30e*,hsa-miR-650', 'miRTargetDB': 'TargetScan', 'miR2DiseaseDB': 'miR2Disease', 'backProb': 0.5, 'subnetWeight': 0.5}\n",
      "[{\"rnaName\":\"hsa-miR-125a-5p\",\"rnaScore\":0.008353551910252461,\"rnaRank\":1,\"type\":\"miRNA\",\"known\":true},{\"rnaName\":\"hsa-let-7a\",\"rnaScore\":0.008267980105256244,\"rnaRank\":2,\"type\":\"miRNA\",\"known\":true},{\"rnaName\":\"hsa-miR-155\",\"rnaScore\":0.00802905638132569,\"rnaRank\":3,\"type\":\"miRNA\",\"known\":true},{\"rnaName\":\"hsa-miR-146b-5p\",\"rnaScore\":0.007844302918125911,\"rnaRank\":4,\"type\":\"miRNA\",\"known\":true},{\"rnaName\":\"hsa-miR-10b\",\"rnaScore\":0.00778371490777397,\"rnaRank\":5,\"type\":\"miRNA\",\"known\":true},{\"rnaName\":\"hsa-let-7f\",\"rnaScore\":6.922225294986695E-4,\"rnaRank\":6,\"type\":\"miRNA\",\"known\":false},{\"rnaName\":\"hsa-let-7b\",\"rnaScore\":6.922225294986684E-4,\"rnaRank\":7,\"type\":\"miRNA\",\"known\":false},{\"rnaName\":\"hsa-let-7c\",\"rnaScore\":6.922225294986682E-4,\"rnaRank\":8,\"type\":\"miRNA\",\"known\":false},{\"rnaName\":\"hsa-let-7e\",\"rnaScore\":6.922225294986678E-4,\"rnaRank\":9,\"type\":\"miRNA\",\"known\":false},{\"rnaName\":\"hsa-miR-30c\",\"rnaScore\":6.376769236410373E-4,\"rnaRank\":10,\"type\":\"miRNA\",\"known\":false},{\"rnaName\":\"hsa-miR-30a\",\"rnaScore\":6.376769236410366E-4,\"rnaRank\":11,\"type\":\"miRNA\",\"known\":false},{\"rnaName\":\"hsa-miR-9\",\"rnaScore\":5.888267551854397E-4,\"rnaRank\":12,\"type\":\"miRNA\",\"known\":false},{\"rnaName\":\"hsa-miR-195\",\"rnaScore\":5.45472377855996E-4,\"rnaRank\":13,\"type\":\"miRNA\",\"known\":false},{\"rnaName\":\"hsa-miR-15a\",\"rnaScore\":5.454723778559956E-4,\"rnaRank\":14,\"type\":\"miRNA\",\"known\":false},{\"rnaName\":\"hsa-miR-181c\",\"rnaScore\":5.311114270053933E-4,\"rnaRank\":15,\"type\":\"miRNA\",\"known\":false},{\"rnaName\":\"hsa-miR-29c\",\"rnaScore\":4.862580629850339E-4,\"rnaRank\":16,\"type\":\"miRNA\",\"known\":false},{\"rnaName\":\"hsa-miR-26a\",\"rnaScore\":4.334762372218123E-4,\"rnaRank\":17,\"type\":\"miRNA\",\"known\":false},{\"rnaName\":\"hsa-miR-26b\",\"rnaScore\":4.3347623722181177E-4,\"rnaRank\":18,\"type\":\"miRNA\",\"known\":false},{\"rnaName\":\"hsa-miR-101\",\"rnaScore\":3.7306961739681137E-4,\"rnaRank\":19,\"type\":\"miRNA\",\"known\":false},{\"rnaName\":\"hsa-miR-142-5p\",\"rnaScore\":3.6741582705513245E-4,\"rnaRank\":20,\"type\":\"miRNA\",\"known\":false},{\"rnaName\":\"hsa-miR-145\",\"rnaScore\":3.6161955353421074E-4,\"rnaRank\":21,\"type\":\"miRNA\",\"known\":false},{\"rnaName\":\"hsa-miR-152\",\"rnaScore\":3.389248961854827E-4,\"rnaRank\":22,\"type\":\"miRNA\",\"known\":false},{\"rnaName\":\"hsa-miR-148b\",\"rnaScore\":3.3892489618548254E-4,\"rnaRank\":23,\"type\":\"miRNA\",\"known\":false},{\"rnaName\":\"hsa-miR-135a\",\"rnaScore\":3.354900203550193E-4,\"rnaRank\":24,\"type\":\"miRNA\",\"known\":false},{\"rnaName\":\"hsa-miR-135b\",\"rnaScore\":3.3549002035501886E-4,\"rnaRank\":25,\"type\":\"miRNA\",\"known\":false},{\"rnaName\":\"hsa-miR-34c-5p\",\"rnaScore\":2.920168564445712E-4,\"rnaRank\":26,\"type\":\"miRNA\",\"known\":false},{\"rnaName\":\"hsa-miR-449a\",\"rnaScore\":2.920168564445706E-4,\"rnaRank\":27,\"type\":\"miRNA\",\"known\":false},{\"rnaName\":\"hsa-miR-107\",\"rnaScore\":2.892578561159485E-4,\"rnaRank\":28,\"type\":\"miRNA\",\"known\":false},{\"rnaName\":\"hsa-miR-214\",\"rnaScore\":2.8099881098392923E-4,\"rnaRank\":29,\"type\":\"miRNA\",\"known\":false},{\"rnaName\":\"hsa-miR-590-5p\",\"rnaScore\":2.441784226384894E-4,\"rnaRank\":30,\"type\":\"miRNA\",\"known\":false},{\"rnaName\":\"hsa-miR-199a-5p\",\"rnaScore\":2.3044020715245187E-4,\"rnaRank\":31,\"type\":\"miRNA\",\"known\":false},{\"rnaName\":\"hsa-miR-326\",\"rnaScore\":1.9633793780124507E-4,\"rnaRank\":32,\"type\":\"miRNA\",\"known\":false},{\"rnaName\":\"hsa-miR-143\",\"rnaScore\":1.8246315658278244E-4,\"rnaRank\":33,\"type\":\"miRNA\",\"known\":false},{\"rnaName\":\"hsa-miR-224\",\"rnaScore\":1.8019120860798224E-4,\"rnaRank\":34,\"type\":\"miRNA\",\"known\":false},{\"rnaName\":\"hsa-miR-650\",\"rnaScore\":1.7253737929210286E-4,\"rnaRank\":35,\"type\":\"miRNA\",\"known\":false},{\"rnaName\":\"hsa-miR-142-3p\",\"rnaScore\":1.609937127882791E-4,\"rnaRank\":36,\"type\":\"miRNA\",\"known\":false},{\"rnaName\":\"hsa-miR-34b\",\"rnaScore\":1.5408019816347295E-4,\"rnaRank\":37,\"type\":\"miRNA\",\"known\":false},{\"rnaName\":\"hsa-miR-342-3p\",\"rnaScore\":1.248476994850592E-4,\"rnaRank\":38,\"type\":\"miRNA\",\"known\":false},{\"rnaName\":\"hsa-miR-18a\",\"rnaScore\":1.2177969019734784E-4,\"rnaRank\":39,\"type\":\"miRNA\",\"known\":false},{\"rnaName\":\"hsa-miR-361-5p\",\"rnaScore\":1.1149928256944835E-4,\"rnaRank\":40,\"type\":\"miRNA\",\"known\":false},{\"rnaName\":\"hsa-miR-328\",\"rnaScore\":1.0867844485649808E-4,\"rnaRank\":41,\"type\":\"miRNA\",\"known\":false},{\"rnaName\":\"hsa-miR-489\",\"rnaScore\":9.959593905448085E-5,\"rnaRank\":42,\"type\":\"miRNA\",\"known\":false},{\"rnaName\":\"hsa-miR-375\",\"rnaScore\":9.865018098916644E-5,\"rnaRank\":43,\"type\":\"miRNA\",\"known\":false},{\"rnaName\":\"hsa-miR-501-3p\",\"rnaScore\":9.826127040942094E-5,\"rnaRank\":44,\"type\":\"miRNA\",\"known\":false},{\"rnaName\":\"hsa-miR-483-3p\",\"rnaScore\":7.279541895688649E-5,\"rnaRank\":45,\"type\":\"miRNA\",\"known\":false},{\"rnaName\":\"hsa-miR-378\",\"rnaScore\":7.131752633891902E-5,\"rnaRank\":46,\"type\":\"miRNA\",\"known\":false},{\"rnaName\":\"hsa-miR-362-5p\",\"rnaScore\":6.513573454634095E-5,\"rnaRank\":47,\"type\":\"miRNA\",\"known\":false},{\"rnaName\":\"hsa-miR-769-5p\",\"rnaScore\":6.027317963814675E-5,\"rnaRank\":48,\"type\":\"miRNA\",\"known\":false},{\"rnaName\":\"hsa-miR-342-5p\",\"rnaScore\":4.479013417828849E-5,\"rnaRank\":49,\"type\":\"miRNA\",\"known\":false},{\"rnaName\":\"hsa-miR-99b\",\"rnaScore\":2.49270183138249E-5,\"rnaRank\":50,\"type\":\"miRNA\",\"known\":false},{\"rnaName\":\"hsa-miR-574-3p\",\"rnaScore\":5.031542735551091E-6,\"rnaRank\":51,\"type\":\"miRNA\",\"known\":false},{\"rnaName\":\"hsa-miR-30a*\",\"rnaScore\":0.0,\"rnaRank\":0,\"type\":\"miRNA\",\"known\":false},{\"rnaName\":\"hsa-miR-378*\",\"rnaScore\":0.0,\"rnaRank\":0,\"type\":\"miRNA\",\"known\":false},{\"rnaName\":\"hsa-miR-103\",\"rnaScore\":0.0,\"rnaRank\":0,\"type\":\"miRNA\",\"known\":false},{\"rnaName\":\"hsa-miR-9*\",\"rnaScore\":0.0,\"rnaRank\":0,\"type\":\"miRNA\",\"known\":false},{\"rnaName\":\"hsa-miR-101*\",\"rnaScore\":0.0,\"rnaRank\":0,\"type\":\"miRNA\",\"known\":false},{\"rnaName\":\"hsa-miR-30e*\",\"rnaScore\":0.0,\"rnaRank\":0,\"type\":\"miRNA\",\"known\":false}]\n"
     ]
    }
   ],
   "source": [
    "import requests\n",
    "\n",
    "x = [line.rstrip('\\n') for line in open('lor.txt')]\n",
    "    \n",
    "lor=','.join(x)\n",
    "\n",
    "parameters = {  \n",
    "    'diseaseOMIMID': 'MIM114480', #OMIM ID of Breast cancer   \n",
    "    'listOfmiRNAs': lor,  \n",
    "    'miRTargetDB': 'TargetScan',  \n",
    "    'miR2DiseaseDB': 'miR2Disease',\n",
    "    'backProb':0.5,\n",
    "    'subnetWeight':0.5\n",
    "}\n",
    "\n",
    "res=requests.post(url=\"http://localhost:1234/RWRMTN/v1/rank\", json=parameters) \n",
    "Output = res.json()\n",
    "\n",
    "print(parameters)\n",
    "print(Output)"
   ]
  },
  {
   "cell_type": "code",
   "execution_count": null,
   "metadata": {},
   "outputs": [],
   "source": []
  },
  {
   "cell_type": "code",
   "execution_count": null,
   "metadata": {},
   "outputs": [],
   "source": []
  }
 ],
 "metadata": {
  "kernelspec": {
   "display_name": "Python 3",
   "language": "python",
   "name": "python3"
  },
  "language_info": {
   "codemirror_mode": {
    "name": "ipython",
    "version": 3
   },
   "file_extension": ".py",
   "mimetype": "text/x-python",
   "name": "python",
   "nbconvert_exporter": "python",
   "pygments_lexer": "ipython3",
   "version": "3.7.4"
  }
 },
 "nbformat": 4,
 "nbformat_minor": 2
}
